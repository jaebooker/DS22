{
 "cells": [
  {
   "cell_type": "code",
   "execution_count": 44,
   "metadata": {},
   "outputs": [],
   "source": [
    "from keras.models import Sequential, Model\n",
    "from keras.layers import Dense, Dropout, Activation, Lambda, Input\n",
    "from keras.optimizers import SGD\n",
    "from keras.utils import np_utils\n",
    "from sklearn.preprocessing import LabelEncoder\n",
    "from sklearn import datasets\n",
    "from sklearn.model_selection import train_test_split\n",
    "from sklearn.preprocessing import StandardScaler\n",
    "from sklearn.linear_model import LogisticRegression\n",
    "from sklearn.datasets import load_boston\n",
    "from sklearn.metrics import mean_squared_error\n",
    "from sklearn.metrics import r2_score\n",
    "from sklearn.metrics import confusion_matrix\n",
    "import numpy as np\n",
    "import pandas as pd"
   ]
  },
  {
   "cell_type": "code",
   "execution_count": 2,
   "metadata": {},
   "outputs": [],
   "source": [
    "ds = pd.read_csv('diabetes.csv')"
   ]
  },
  {
   "cell_type": "code",
   "execution_count": 16,
   "metadata": {},
   "outputs": [],
   "source": [
    "y = pd.DataFrame(data=ds['Outcome'], columns=['Outcome'])"
   ]
  },
  {
   "cell_type": "code",
   "execution_count": 31,
   "metadata": {},
   "outputs": [],
   "source": [
    "X = ds.loc[:, 'Pregnancies':'Age']"
   ]
  },
  {
   "cell_type": "code",
   "execution_count": 32,
   "metadata": {},
   "outputs": [],
   "source": [
    "X_train, X_test, y_train, y_test = train_test_split(X, y, test_size = .2, random_state= 0)"
   ]
  },
  {
   "cell_type": "code",
   "execution_count": 33,
   "metadata": {},
   "outputs": [],
   "source": [
    "scaler = StandardScaler()\n",
    "X_train = scaler.fit_transform(X_train)\n",
    "X_test = scaler.fit_transform(X_test)"
   ]
  },
  {
   "cell_type": "code",
   "execution_count": null,
   "metadata": {},
   "outputs": [
    {
     "name": "stdout",
     "output_type": "stream",
     "text": [
      "Epoch 1/200\n",
      "614/614 [==============================] - 1s 2ms/step - loss: 0.6359 - acc: 0.7101\n",
      "Epoch 2/200\n",
      "614/614 [==============================] - 1s 1ms/step - loss: 0.5682 - acc: 0.7476\n",
      "Epoch 3/200\n",
      "614/614 [==============================] - 1s 1ms/step - loss: 0.5360 - acc: 0.7557\n",
      "Epoch 4/200\n",
      "614/614 [==============================] - 1s 1ms/step - loss: 0.5184 - acc: 0.7590\n",
      "Epoch 5/200\n",
      "614/614 [==============================] - 1s 2ms/step - loss: 0.5077 - acc: 0.7638\n",
      "Epoch 6/200\n",
      "614/614 [==============================] - 1s 2ms/step - loss: 0.5011 - acc: 0.7638\n",
      "Epoch 7/200\n",
      "614/614 [==============================] - 1s 2ms/step - loss: 0.4963 - acc: 0.7622A: 0s - loss: 0.4919 - acc:\n",
      "Epoch 8/200\n",
      "614/614 [==============================] - 1s 2ms/step - loss: 0.4934 - acc: 0.7590\n",
      "Epoch 9/200\n",
      "614/614 [==============================] - 1s 2ms/step - loss: 0.4911 - acc: 0.7606\n",
      "Epoch 10/200\n",
      "614/614 [==============================] - 1s 1ms/step - loss: 0.4895 - acc: 0.7573\n",
      "Epoch 11/200\n",
      "614/614 [==============================] - 1s 1ms/step - loss: 0.4884 - acc: 0.7606\n",
      "Epoch 12/200\n",
      "614/614 [==============================] - 1s 2ms/step - loss: 0.4874 - acc: 0.7606\n",
      "Epoch 13/200\n",
      "614/614 [==============================] - 1s 2ms/step - loss: 0.4868 - acc: 0.7622\n",
      "Epoch 14/200\n",
      "614/614 [==============================] - 1s 1ms/step - loss: 0.4866 - acc: 0.7606\n",
      "Epoch 15/200\n",
      "614/614 [==============================] - 1s 1ms/step - loss: 0.4861 - acc: 0.7622\n",
      "Epoch 16/200\n",
      "614/614 [==============================] - 1s 1ms/step - loss: 0.4858 - acc: 0.7638\n",
      "Epoch 17/200\n",
      "284/614 [============>.................] - ETA: 0s - loss: 0.4902 - acc: 0.7359"
     ]
    }
   ],
   "source": [
    "model = Sequential()\n",
    "model.add(Dense(activation='sigmoid', input_dim=8, units=1, kernel_initializer='uniform'))\n",
    "model.compile(optimizer='adam', loss='binary_crossentropy', metrics=['accuracy'])\n",
    "model.fit(X_train, y_train, epochs=200,batch_size=1,verbose=1)"
   ]
  },
  {
   "cell_type": "code",
   "execution_count": 36,
   "metadata": {},
   "outputs": [
    {
     "name": "stderr",
     "output_type": "stream",
     "text": [
      "/usr/local/lib/python3.7/site-packages/sklearn/linear_model/logistic.py:432: FutureWarning: Default solver will be changed to 'lbfgs' in 0.22. Specify a solver to silence this warning.\n",
      "  FutureWarning)\n",
      "/usr/local/lib/python3.7/site-packages/sklearn/utils/validation.py:724: DataConversionWarning: A column-vector y was passed when a 1d array was expected. Please change the shape of y to (n_samples, ), for example using ravel().\n",
      "  y = column_or_1d(y, warn=True)\n"
     ]
    },
    {
     "data": {
      "text/plain": [
       "LogisticRegression(C=1.0, class_weight=None, dual=False, fit_intercept=True,\n",
       "                   intercept_scaling=1, l1_ratio=None, max_iter=100,\n",
       "                   multi_class='warn', n_jobs=None, penalty='l2',\n",
       "                   random_state=None, solver='warn', tol=0.0001, verbose=0,\n",
       "                   warm_start=False)"
      ]
     },
     "execution_count": 36,
     "metadata": {},
     "output_type": "execute_result"
    }
   ],
   "source": [
    "logic = LogisticRegression()\n",
    "logic.fit(X_train, y_train)"
   ]
  },
  {
   "cell_type": "code",
   "execution_count": 49,
   "metadata": {},
   "outputs": [],
   "source": [
    "y_pred = model.predict(X_test)\n",
    "y_pred = (y_pred> .5)\n",
    "cm = confusion_matrix(y_test, y_pred)"
   ]
  },
  {
   "cell_type": "code",
   "execution_count": 41,
   "metadata": {},
   "outputs": [
    {
     "name": "stderr",
     "output_type": "stream",
     "text": [
      "/usr/local/lib/python3.7/site-packages/sklearn/utils/validation.py:724: DataConversionWarning: A column-vector y was passed when a 1d array was expected. Please change the shape of y to (n_samples, ), for example using ravel().\n",
      "  y = column_or_1d(y, warn=True)\n"
     ]
    }
   ],
   "source": [
    "logic = LogisticRegression(random_state=0, solver='liblinear', multi_class='ovr').fit(X_train, y_train)"
   ]
  },
  {
   "cell_type": "code",
   "execution_count": 42,
   "metadata": {},
   "outputs": [],
   "source": [
    "y_pred = logic.predict(X_test)"
   ]
  },
  {
   "cell_type": "code",
   "execution_count": 45,
   "metadata": {},
   "outputs": [],
   "source": []
  },
  {
   "cell_type": "code",
   "execution_count": 46,
   "metadata": {},
   "outputs": [],
   "source": [
    "cm2 = confusion_matrix(y_test, y_pred)"
   ]
  },
  {
   "cell_type": "code",
   "execution_count": 50,
   "metadata": {},
   "outputs": [
    {
     "data": {
      "text/plain": [
       "array([[94, 13],\n",
       "       [18, 29]])"
      ]
     },
     "execution_count": 50,
     "metadata": {},
     "output_type": "execute_result"
    }
   ],
   "source": [
    "cm"
   ]
  },
  {
   "cell_type": "code",
   "execution_count": 48,
   "metadata": {},
   "outputs": [
    {
     "data": {
      "text/plain": [
       "array([[94, 13],\n",
       "       [18, 29]])"
      ]
     },
     "execution_count": 48,
     "metadata": {},
     "output_type": "execute_result"
    }
   ],
   "source": [
    "cm2"
   ]
  },
  {
   "cell_type": "code",
   "execution_count": null,
   "metadata": {},
   "outputs": [],
   "source": []
  }
 ],
 "metadata": {
  "kernelspec": {
   "display_name": "Python 3",
   "language": "python",
   "name": "python3"
  },
  "language_info": {
   "codemirror_mode": {
    "name": "ipython",
    "version": 3
   },
   "file_extension": ".py",
   "mimetype": "text/x-python",
   "name": "python",
   "nbconvert_exporter": "python",
   "pygments_lexer": "ipython3",
   "version": "3.7.0"
  }
 },
 "nbformat": 4,
 "nbformat_minor": 2
}
